{
 "cells": [
  {
   "cell_type": "markdown",
   "metadata": {},
   "source": [
    "# Cyberbullying detection using machine learining"
   ]
  },
  {
   "cell_type": "code",
   "execution_count": 1,
   "metadata": {},
   "outputs": [],
   "source": [
    "# for Python 2: use print only as a function\n",
    "from __future__ import print_function"
   ]
  },
  {
   "cell_type": "code",
   "execution_count": 2,
   "metadata": {},
   "outputs": [],
   "source": [
    "# import and instantiate CountVectorizer (with the default parameters)\n",
    "from sklearn.feature_extraction.text import CountVectorizer, TfidfVectorizer, HashingVectorizer"
   ]
  },
  {
   "cell_type": "code",
   "execution_count": 3,
   "metadata": {},
   "outputs": [],
   "source": [
    "from nltk.tokenize import word_tokenize\n",
    "from nltk.corpus import stopwords\n",
    "from nltk.stem import PorterStemmer\n",
    "from nltk.stem import SnowballStemmer\n",
    "from nltk.stem import WordNetLemmatizer\n",
    "from textblob import TextBlob\n",
    "import matplotlib.pyplot as plt\n",
    "from wordcloud import WordCloud\n",
    "from math import log, sqrt\n",
    "import pandas as pd\n",
    "import numpy as np\n",
    "import re\n",
    "%matplotlib inline"
   ]
  },
  {
   "cell_type": "code",
   "execution_count": 4,
   "metadata": {},
   "outputs": [],
   "source": [
    "# read file into pandas using a relative path\n",
    "import pandas as pd\n",
    "tweet = pd.read_csv(\"h.csv\", encoding=\"ISO-8859-1\")"
   ]
  },
  {
   "cell_type": "code",
   "execution_count": 5,
   "metadata": {},
   "outputs": [
    {
     "data": {
      "text/plain": [
       "(19001, 4)"
      ]
     },
     "execution_count": 5,
     "metadata": {},
     "output_type": "execute_result"
    }
   ],
   "source": [
    "# examine the shape\n",
    "tweet.shape"
   ]
  },
  {
   "cell_type": "code",
   "execution_count": 6,
   "metadata": {},
   "outputs": [
    {
     "data": {
      "text/html": [
       "<div>\n",
       "<style scoped>\n",
       "    .dataframe tbody tr th:only-of-type {\n",
       "        vertical-align: middle;\n",
       "    }\n",
       "\n",
       "    .dataframe tbody tr th {\n",
       "        vertical-align: top;\n",
       "    }\n",
       "\n",
       "    .dataframe thead th {\n",
       "        text-align: right;\n",
       "    }\n",
       "</style>\n",
       "<table border=\"1\" class=\"dataframe\">\n",
       "  <thead>\n",
       "    <tr style=\"text-align: right;\">\n",
       "      <th></th>\n",
       "      <th>content</th>\n",
       "      <th>annotation__notes</th>\n",
       "      <th>annotation__label__-</th>\n",
       "      <th>extras</th>\n",
       "    </tr>\n",
       "  </thead>\n",
       "  <tbody>\n",
       "    <tr>\n",
       "      <th>0</th>\n",
       "      <td>I hate .... you .... zzzzzzzz</td>\n",
       "      <td>NaN</td>\n",
       "      <td>1</td>\n",
       "      <td>NaN</td>\n",
       "    </tr>\n",
       "    <tr>\n",
       "      <th>1</th>\n",
       "      <td>Hey... Stop twitting and post a damn blog!</td>\n",
       "      <td>NaN</td>\n",
       "      <td>1</td>\n",
       "      <td>NaN</td>\n",
       "    </tr>\n",
       "    <tr>\n",
       "      <th>2</th>\n",
       "      <td>http://twitpic.com/qtt0 - O.O bingo is waaaaay...</td>\n",
       "      <td>NaN</td>\n",
       "      <td>1</td>\n",
       "      <td>NaN</td>\n",
       "    </tr>\n",
       "    <tr>\n",
       "      <th>3</th>\n",
       "      <td>xD! i know. hmm ....i wonder how it feels like...</td>\n",
       "      <td>NaN</td>\n",
       "      <td>1</td>\n",
       "      <td>NaN</td>\n",
       "    </tr>\n",
       "    <tr>\n",
       "      <th>4</th>\n",
       "      <td>oh youuuu little bitch. Just keep your winter ...</td>\n",
       "      <td>NaN</td>\n",
       "      <td>1</td>\n",
       "      <td>NaN</td>\n",
       "    </tr>\n",
       "    <tr>\n",
       "      <th>5</th>\n",
       "      <td>not to sound amazingly  astoundingly gay (not ...</td>\n",
       "      <td>NaN</td>\n",
       "      <td>1</td>\n",
       "      <td>NaN</td>\n",
       "    </tr>\n",
       "    <tr>\n",
       "      <th>6</th>\n",
       "      <td>as much as i hate auto-DM's  i also check out ...</td>\n",
       "      <td>NaN</td>\n",
       "      <td>1</td>\n",
       "      <td>NaN</td>\n",
       "    </tr>\n",
       "    <tr>\n",
       "      <th>7</th>\n",
       "      <td>I'm blocking you because you have no value. Go...</td>\n",
       "      <td>NaN</td>\n",
       "      <td>1</td>\n",
       "      <td>NaN</td>\n",
       "    </tr>\n",
       "    <tr>\n",
       "      <th>8</th>\n",
       "      <td>If only Edward and Bella were slightly less em...</td>\n",
       "      <td>NaN</td>\n",
       "      <td>1</td>\n",
       "      <td>NaN</td>\n",
       "    </tr>\n",
       "    <tr>\n",
       "      <th>9</th>\n",
       "      <td>@scanman and @asthepumpturns. Yeah  I am a mea...</td>\n",
       "      <td>NaN</td>\n",
       "      <td>1</td>\n",
       "      <td>NaN</td>\n",
       "    </tr>\n",
       "  </tbody>\n",
       "</table>\n",
       "</div>"
      ],
      "text/plain": [
       "                                             content  annotation__notes  \\\n",
       "0                      I hate .... you .... zzzzzzzz                NaN   \n",
       "1         Hey... Stop twitting and post a damn blog!                NaN   \n",
       "2  http://twitpic.com/qtt0 - O.O bingo is waaaaay...                NaN   \n",
       "3  xD! i know. hmm ....i wonder how it feels like...                NaN   \n",
       "4  oh youuuu little bitch. Just keep your winter ...                NaN   \n",
       "5  not to sound amazingly  astoundingly gay (not ...                NaN   \n",
       "6  as much as i hate auto-DM's  i also check out ...                NaN   \n",
       "7  I'm blocking you because you have no value. Go...                NaN   \n",
       "8  If only Edward and Bella were slightly less em...                NaN   \n",
       "9  @scanman and @asthepumpturns. Yeah  I am a mea...                NaN   \n",
       "\n",
       "   annotation__label__-  extras  \n",
       "0                     1     NaN  \n",
       "1                     1     NaN  \n",
       "2                     1     NaN  \n",
       "3                     1     NaN  \n",
       "4                     1     NaN  \n",
       "5                     1     NaN  \n",
       "6                     1     NaN  \n",
       "7                     1     NaN  \n",
       "8                     1     NaN  \n",
       "9                     1     NaN  "
      ]
     },
     "execution_count": 6,
     "metadata": {},
     "output_type": "execute_result"
    }
   ],
   "source": [
    "# examine the first 10 rows\n",
    "tweet.head(10)"
   ]
  },
  {
   "cell_type": "code",
   "execution_count": 7,
   "metadata": {},
   "outputs": [
    {
     "data": {
      "text/html": [
       "<div>\n",
       "<style scoped>\n",
       "    .dataframe tbody tr th:only-of-type {\n",
       "        vertical-align: middle;\n",
       "    }\n",
       "\n",
       "    .dataframe tbody tr th {\n",
       "        vertical-align: top;\n",
       "    }\n",
       "\n",
       "    .dataframe thead th {\n",
       "        text-align: right;\n",
       "    }\n",
       "</style>\n",
       "<table border=\"1\" class=\"dataframe\">\n",
       "  <thead>\n",
       "    <tr style=\"text-align: right;\">\n",
       "      <th></th>\n",
       "      <th>tweet</th>\n",
       "      <th>label</th>\n",
       "    </tr>\n",
       "  </thead>\n",
       "  <tbody>\n",
       "    <tr>\n",
       "      <th>0</th>\n",
       "      <td>I hate .... you .... zzzzzzzz</td>\n",
       "      <td>1</td>\n",
       "    </tr>\n",
       "    <tr>\n",
       "      <th>1</th>\n",
       "      <td>Hey... Stop twitting and post a damn blog!</td>\n",
       "      <td>1</td>\n",
       "    </tr>\n",
       "    <tr>\n",
       "      <th>2</th>\n",
       "      <td>http://twitpic.com/qtt0 - O.O bingo is waaaaay...</td>\n",
       "      <td>1</td>\n",
       "    </tr>\n",
       "    <tr>\n",
       "      <th>3</th>\n",
       "      <td>xD! i know. hmm ....i wonder how it feels like...</td>\n",
       "      <td>1</td>\n",
       "    </tr>\n",
       "    <tr>\n",
       "      <th>4</th>\n",
       "      <td>oh youuuu little bitch. Just keep your winter ...</td>\n",
       "      <td>1</td>\n",
       "    </tr>\n",
       "    <tr>\n",
       "      <th>5</th>\n",
       "      <td>not to sound amazingly  astoundingly gay (not ...</td>\n",
       "      <td>1</td>\n",
       "    </tr>\n",
       "    <tr>\n",
       "      <th>6</th>\n",
       "      <td>as much as i hate auto-DM's  i also check out ...</td>\n",
       "      <td>1</td>\n",
       "    </tr>\n",
       "    <tr>\n",
       "      <th>7</th>\n",
       "      <td>I'm blocking you because you have no value. Go...</td>\n",
       "      <td>1</td>\n",
       "    </tr>\n",
       "    <tr>\n",
       "      <th>8</th>\n",
       "      <td>If only Edward and Bella were slightly less em...</td>\n",
       "      <td>1</td>\n",
       "    </tr>\n",
       "    <tr>\n",
       "      <th>9</th>\n",
       "      <td>@scanman and @asthepumpturns. Yeah  I am a mea...</td>\n",
       "      <td>1</td>\n",
       "    </tr>\n",
       "  </tbody>\n",
       "</table>\n",
       "</div>"
      ],
      "text/plain": [
       "                                               tweet  label\n",
       "0                      I hate .... you .... zzzzzzzz      1\n",
       "1         Hey... Stop twitting and post a damn blog!      1\n",
       "2  http://twitpic.com/qtt0 - O.O bingo is waaaaay...      1\n",
       "3  xD! i know. hmm ....i wonder how it feels like...      1\n",
       "4  oh youuuu little bitch. Just keep your winter ...      1\n",
       "5  not to sound amazingly  astoundingly gay (not ...      1\n",
       "6  as much as i hate auto-DM's  i also check out ...      1\n",
       "7  I'm blocking you because you have no value. Go...      1\n",
       "8  If only Edward and Bella were slightly less em...      1\n",
       "9  @scanman and @asthepumpturns. Yeah  I am a mea...      1"
      ]
     },
     "execution_count": 7,
     "metadata": {},
     "output_type": "execute_result"
    }
   ],
   "source": [
    "tweet.rename(columns = {\"annotation__label__-\": \"label\", \"content\": \"tweet\"}, inplace = True)\n",
    "tweet.drop(['annotation__notes'], axis = 1, inplace = True)\n",
    "tweet.drop(['extras'], axis = 1, inplace = True)\n",
    "tweet.head(10)"
   ]
  },
  {
   "cell_type": "code",
   "execution_count": 8,
   "metadata": {},
   "outputs": [
    {
     "data": {
      "text/plain": [
       "0    11162\n",
       "1     7839\n",
       "Name: label, dtype: int64"
      ]
     },
     "execution_count": 8,
     "metadata": {},
     "output_type": "execute_result"
    }
   ],
   "source": [
    "# examine the class distribution\n",
    "tweet.label.value_counts()"
   ]
  },
  {
   "cell_type": "code",
   "execution_count": 9,
   "metadata": {},
   "outputs": [
    {
     "data": {
      "text/plain": [
       "0                        i hate .... you .... zzzzzzzz\n",
       "1           hey... stop twitting and post a damn blog!\n",
       "2    http://twitpic.com/qtt0 - o.o bingo is waaaaay...\n",
       "3    xd! i know. hmm ....i wonder how it feels like...\n",
       "4    oh youuuu little bitch. just keep your winter ...\n",
       "Name: tweet, dtype: object"
      ]
     },
     "execution_count": 9,
     "metadata": {},
     "output_type": "execute_result"
    }
   ],
   "source": [
    "tweet['tweet'] = tweet['tweet'].apply(lambda x: \" \".join(x.lower() for x in x.split()))\n",
    "tweet['tweet'].head()"
   ]
  },
  {
   "cell_type": "code",
   "execution_count": 10,
   "metadata": {},
   "outputs": [
    {
     "data": {
      "text/plain": [
       "0                                i hate  you  zzzzzzzz\n",
       "1               hey stop twitting and post a damn blog\n",
       "2    httptwitpiccomqtt0  oo bingo is waaaaay to har...\n",
       "3    xd i know hmm i wonder how it feels like to fu...\n",
       "4    oh youuuu little bitch just keep your winter g...\n",
       "Name: tweet, dtype: object"
      ]
     },
     "execution_count": 10,
     "metadata": {},
     "output_type": "execute_result"
    }
   ],
   "source": [
    "tweet['tweet'] = tweet['tweet'].str.replace('[^\\w\\s]','')\n",
    "tweet['tweet'] = tweet['tweet'].str.replace(r'_','')\n",
    "tweet['tweet'].head()"
   ]
  },
  {
   "cell_type": "code",
   "execution_count": 11,
   "metadata": {},
   "outputs": [
    {
     "data": {
      "text/html": [
       "<div>\n",
       "<style scoped>\n",
       "    .dataframe tbody tr th:only-of-type {\n",
       "        vertical-align: middle;\n",
       "    }\n",
       "\n",
       "    .dataframe tbody tr th {\n",
       "        vertical-align: top;\n",
       "    }\n",
       "\n",
       "    .dataframe thead th {\n",
       "        text-align: right;\n",
       "    }\n",
       "</style>\n",
       "<table border=\"1\" class=\"dataframe\">\n",
       "  <thead>\n",
       "    <tr style=\"text-align: right;\">\n",
       "      <th></th>\n",
       "      <th>tweet</th>\n",
       "      <th>numerics</th>\n",
       "    </tr>\n",
       "  </thead>\n",
       "  <tbody>\n",
       "    <tr>\n",
       "      <th>0</th>\n",
       "      <td>i hate  you  zzzzzzzz</td>\n",
       "      <td>0</td>\n",
       "    </tr>\n",
       "    <tr>\n",
       "      <th>1</th>\n",
       "      <td>hey stop twitting and post a damn blog</td>\n",
       "      <td>0</td>\n",
       "    </tr>\n",
       "    <tr>\n",
       "      <th>2</th>\n",
       "      <td>httptwitpiccomqtt0  oo bingo is waaaaay to har...</td>\n",
       "      <td>0</td>\n",
       "    </tr>\n",
       "    <tr>\n",
       "      <th>3</th>\n",
       "      <td>xd i know hmm i wonder how it feels like to fu...</td>\n",
       "      <td>0</td>\n",
       "    </tr>\n",
       "    <tr>\n",
       "      <th>4</th>\n",
       "      <td>oh youuuu little bitch just keep your winter g...</td>\n",
       "      <td>0</td>\n",
       "    </tr>\n",
       "    <tr>\n",
       "      <th>5</th>\n",
       "      <td>not to sound amazingly astoundingly gay not th...</td>\n",
       "      <td>0</td>\n",
       "    </tr>\n",
       "    <tr>\n",
       "      <th>6</th>\n",
       "      <td>as much as i hate autodms i also check out lin...</td>\n",
       "      <td>0</td>\n",
       "    </tr>\n",
       "    <tr>\n",
       "      <th>7</th>\n",
       "      <td>im blocking you because you have no value go b...</td>\n",
       "      <td>0</td>\n",
       "    </tr>\n",
       "    <tr>\n",
       "      <th>8</th>\n",
       "      <td>if only edward and bella were slightly less emo</td>\n",
       "      <td>0</td>\n",
       "    </tr>\n",
       "    <tr>\n",
       "      <th>9</th>\n",
       "      <td>scanman and asthepumpturns yeah i am a mean me...</td>\n",
       "      <td>0</td>\n",
       "    </tr>\n",
       "  </tbody>\n",
       "</table>\n",
       "</div>"
      ],
      "text/plain": [
       "                                               tweet  numerics\n",
       "0                              i hate  you  zzzzzzzz         0\n",
       "1             hey stop twitting and post a damn blog         0\n",
       "2  httptwitpiccomqtt0  oo bingo is waaaaay to har...         0\n",
       "3  xd i know hmm i wonder how it feels like to fu...         0\n",
       "4  oh youuuu little bitch just keep your winter g...         0\n",
       "5  not to sound amazingly astoundingly gay not th...         0\n",
       "6  as much as i hate autodms i also check out lin...         0\n",
       "7  im blocking you because you have no value go b...         0\n",
       "8   if only edward and bella were slightly less emo          0\n",
       "9  scanman and asthepumpturns yeah i am a mean me...         0"
      ]
     },
     "execution_count": 11,
     "metadata": {},
     "output_type": "execute_result"
    }
   ],
   "source": [
    "tweet['numerics'] = tweet['tweet'].apply(lambda x: len([x for x in x.split() if x.isdigit()]))\n",
    "tweet[['tweet','numerics']].head(10)"
   ]
  },
  {
   "cell_type": "code",
   "execution_count": 12,
   "metadata": {},
   "outputs": [
    {
     "data": {
      "text/plain": [
       "0                                i hate  you  zzzzzzzz\n",
       "1               hey stop twitting and post a damn blog\n",
       "2    httptwitpiccomqtt  oo bingo is waaaaay to hard...\n",
       "3    xd i know hmm i wonder how it feels like to fu...\n",
       "4    oh youuuu little bitch just keep your winter g...\n",
       "Name: tweet, dtype: object"
      ]
     },
     "execution_count": 12,
     "metadata": {},
     "output_type": "execute_result"
    }
   ],
   "source": [
    "tweet['tweet'] = tweet['tweet'].str.replace('[\\d+]','')\n",
    "tweet['tweet'].head()"
   ]
  },
  {
   "cell_type": "code",
   "execution_count": 13,
   "metadata": {},
   "outputs": [
    {
     "data": {
      "text/plain": [
       "0                                        hate zzzzzzzz\n",
       "1                     hey stop twitting post damn blog\n",
       "2    httptwitpiccomqtt oo bingo waaaaay hard hate w...\n",
       "3    xd know hmm wonder feels like fuck bingo hard ...\n",
       "4    oh youuuu little bitch keep winter gloves away...\n",
       "Name: tweet, dtype: object"
      ]
     },
     "execution_count": 13,
     "metadata": {},
     "output_type": "execute_result"
    }
   ],
   "source": [
    "stop = stopwords.words('english')\n",
    "tweet['tweet'] = tweet['tweet'].apply(lambda x: \" \".join(x for x in x.split() if x not in stop))\n",
    "tweet['tweet'].head()"
   ]
  },
  {
   "cell_type": "code",
   "execution_count": 14,
   "metadata": {},
   "outputs": [
    {
     "data": {
      "text/plain": [
       "0                                        hate zzzzzzzz\n",
       "1                     hey stop twitting post damn blog\n",
       "2    httptwitpiccomqtt bingo waaaaay hard hate wann...\n",
       "3    know hmm wonder feels like fuck bingo hard hmm...\n",
       "4    youuuu little bitch keep winter gloves away zi...\n",
       "Name: tweet, dtype: object"
      ]
     },
     "execution_count": 14,
     "metadata": {},
     "output_type": "execute_result"
    }
   ],
   "source": [
    "tweet['tweet'] = tweet['tweet'].apply(lambda x: \" \".join(x for x in x.split() if len(x) > 2))\n",
    "tweet['tweet'].head()"
   ]
  },
  {
   "cell_type": "code",
   "execution_count": 15,
   "metadata": {},
   "outputs": [],
   "source": [
    "#tweet['tweet'].apply(lambda x: str(TextBlob(x).correct()))\n",
    "#tweet['tweet'].head()"
   ]
  },
  {
   "cell_type": "code",
   "execution_count": 16,
   "metadata": {},
   "outputs": [
    {
     "data": {
      "text/html": [
       "<div>\n",
       "<style scoped>\n",
       "    .dataframe tbody tr th:only-of-type {\n",
       "        vertical-align: middle;\n",
       "    }\n",
       "\n",
       "    .dataframe tbody tr th {\n",
       "        vertical-align: top;\n",
       "    }\n",
       "\n",
       "    .dataframe thead th {\n",
       "        text-align: right;\n",
       "    }\n",
       "</style>\n",
       "<table border=\"1\" class=\"dataframe\">\n",
       "  <thead>\n",
       "    <tr style=\"text-align: right;\">\n",
       "      <th></th>\n",
       "      <th>tweet</th>\n",
       "      <th>label</th>\n",
       "      <th>numerics</th>\n",
       "    </tr>\n",
       "  </thead>\n",
       "  <tbody>\n",
       "    <tr>\n",
       "      <th>0</th>\n",
       "      <td>zzzzzzzz</td>\n",
       "      <td>1</td>\n",
       "      <td>0</td>\n",
       "    </tr>\n",
       "    <tr>\n",
       "      <th>1</th>\n",
       "      <td>hey stop twitting post blog</td>\n",
       "      <td>1</td>\n",
       "      <td>0</td>\n",
       "    </tr>\n",
       "    <tr>\n",
       "      <th>2</th>\n",
       "      <td>httptwitpiccomqtt bingo waaaaay hard wanna itw...</td>\n",
       "      <td>1</td>\n",
       "      <td>0</td>\n",
       "    </tr>\n",
       "    <tr>\n",
       "      <th>3</th>\n",
       "      <td>know hmm wonder feels bingo hard hmmmm guss il...</td>\n",
       "      <td>1</td>\n",
       "      <td>0</td>\n",
       "    </tr>\n",
       "    <tr>\n",
       "      <th>4</th>\n",
       "      <td>youuuu little bitch keep winter gloves away zi...</td>\n",
       "      <td>1</td>\n",
       "      <td>0</td>\n",
       "    </tr>\n",
       "    <tr>\n",
       "      <th>5</th>\n",
       "      <td>sound amazingly astoundingly gay thats bad sou...</td>\n",
       "      <td>1</td>\n",
       "      <td>0</td>\n",
       "    </tr>\n",
       "    <tr>\n",
       "      <th>6</th>\n",
       "      <td>much autodms also check links theyre music rel...</td>\n",
       "      <td>1</td>\n",
       "      <td>0</td>\n",
       "    </tr>\n",
       "    <tr>\n",
       "      <th>7</th>\n",
       "      <td>blocking value back telemarketing loser market...</td>\n",
       "      <td>1</td>\n",
       "      <td>0</td>\n",
       "    </tr>\n",
       "    <tr>\n",
       "      <th>8</th>\n",
       "      <td>edward bella slightly less emo</td>\n",
       "      <td>1</td>\n",
       "      <td>0</td>\n",
       "    </tr>\n",
       "    <tr>\n",
       "      <th>9</th>\n",
       "      <td>scanman asthepumpturns yeah mean mean person h...</td>\n",
       "      <td>1</td>\n",
       "      <td>0</td>\n",
       "    </tr>\n",
       "  </tbody>\n",
       "</table>\n",
       "</div>"
      ],
      "text/plain": [
       "                                               tweet  label  numerics\n",
       "0                                           zzzzzzzz      1         0\n",
       "1                        hey stop twitting post blog      1         0\n",
       "2  httptwitpiccomqtt bingo waaaaay hard wanna itw...      1         0\n",
       "3  know hmm wonder feels bingo hard hmmmm guss il...      1         0\n",
       "4  youuuu little bitch keep winter gloves away zi...      1         0\n",
       "5  sound amazingly astoundingly gay thats bad sou...      1         0\n",
       "6  much autodms also check links theyre music rel...      1         0\n",
       "7  blocking value back telemarketing loser market...      1         0\n",
       "8                     edward bella slightly less emo      1         0\n",
       "9  scanman asthepumpturns yeah mean mean person h...      1         0"
      ]
     },
     "execution_count": 16,
     "metadata": {},
     "output_type": "execute_result"
    }
   ],
   "source": [
    "freq = pd.Series(' '.join(tweet['tweet']).split()).value_counts()[:10]\n",
    "freq = list(freq.index)\n",
    "tweet['tweet'] = tweet['tweet'].apply(lambda x: \" \".join(x for x in x.split() if x not in freq))\n",
    "tweet.head(10)"
   ]
  },
  {
   "cell_type": "code",
   "execution_count": 17,
   "metadata": {},
   "outputs": [
    {
     "data": {
      "image/png": "[encoded data removed]",
      "text/plain": [
       "<Figure size 720x576 with 1 Axes>"
      ]
     },
     "metadata": {},
     "output_type": "display_data"
    }
   ],
   "source": [
    "bully_words = ' '.join(list(tweet[tweet['label'] == 1]['tweet']))\n",
    "bully_wc = WordCloud(width = 512,height = 380).generate(bully_words)\n",
    "plt.figure(figsize = (10, 8), facecolor = (0, 0, 0))\n",
    "plt.imshow(bully_wc)\n",
    "plt.axis('off')\n",
    "plt.tight_layout(pad = 0)\n",
    "plt.show()"
   ]
  },
  {
   "cell_type": "code",
   "execution_count": 18,
   "metadata": {},
   "outputs": [
    {
     "data": {
      "image/png": "[encoded data removed]",
      "text/plain": [
       "<Figure size 720x576 with 1 Axes>"
      ]
     },
     "metadata": {},
     "output_type": "display_data"
    }
   ],
   "source": [
    "non_bully_words = ' '.join(list(tweet[tweet['label'] == 0]['tweet']))\n",
    "non_bully_wc = WordCloud(width = 512,height = 380).generate(non_bully_words)\n",
    "plt.figure(figsize = (10, 8), facecolor = 'k')\n",
    "plt.imshow(non_bully_wc)\n",
    "plt.axis('off')\n",
    "plt.tight_layout(pad = 0)\n",
    "plt.show()"
   ]
  },
  {
   "cell_type": "code",
   "execution_count": 19,
   "metadata": {},
   "outputs": [
    {
     "name": "stdout",
     "output_type": "stream",
     "text": [
      "(19001,)\n",
      "(19001,)\n"
     ]
    }
   ],
   "source": [
    "# how to define X and y (from the Tweeter data) for use with COUNTVECTORIZER\n",
    "X = tweet.tweet\n",
    "y = tweet.label\n",
    "print(X.shape)\n",
    "print(y.shape)"
   ]
  },
  {
   "cell_type": "code",
   "execution_count": 20,
   "metadata": {},
   "outputs": [
    {
     "name": "stdout",
     "output_type": "stream",
     "text": [
      "(15200,)\n",
      "(3801,)\n",
      "(15200,)\n",
      "(3801,)\n"
     ]
    },
    {
     "name": "stderr",
     "output_type": "stream",
     "text": [
      "C:\\Users\\Richie Rozario\\Anaconda3\\lib\\site-packages\\sklearn\\cross_validation.py:41: DeprecationWarning: This module was deprecated in version 0.18 in favor of the model_selection module into which all the refactored classes and functions are moved. Also note that the interface of the new CV iterators are different from that of this module. This module will be removed in 0.20.\n",
      "  \"This module will be removed in 0.20.\", DeprecationWarning)\n"
     ]
    }
   ],
   "source": [
    "# split X and y into training and testing sets\n",
    "from sklearn.cross_validation import train_test_split\n",
    "X_train, X_test, y_train, y_test = train_test_split(X, y, train_size=.8, random_state=10)\n",
    "print(X_train.shape)\n",
    "print(X_test.shape)\n",
    "print(y_train.shape)\n",
    "print(y_test.shape)"
   ]
  },
  {
   "cell_type": "code",
   "execution_count": 21,
   "metadata": {},
   "outputs": [],
   "source": [
    "def tokenize(tweet):\n",
    "    words = word_tokenize(tweet)\n",
    "    \n",
    "    stemmer = PorterStemmer()\n",
    "    words = [stemmer.stem(word) for word in words]\n",
    "    \n",
    "    lemma = WordNetLemmatizer()\n",
    "    words = [lemma.lemmatize(word) for word in words]\n",
    "    \n",
    "    return words"
   ]
  },
  {
   "cell_type": "code",
   "execution_count": 22,
   "metadata": {},
   "outputs": [
    {
     "data": {
      "text/plain": [
       "CountVectorizer(analyzer='word', binary=False, decode_error='strict',\n",
       "        dtype=<class 'numpy.int64'>, encoding='ISO-8859-1',\n",
       "        input='content', lowercase=True, max_df=1.0, max_features=None,\n",
       "        min_df=1, ngram_range=(1, 2), preprocessor=None,\n",
       "        stop_words='english', strip_accents=None,\n",
       "        token_pattern='(?u)\\\\b\\\\w\\\\w+\\\\b',\n",
       "        tokenizer=<function tokenize at 0x000001EF971430D0>,\n",
       "        vocabulary=None)"
      ]
     },
     "execution_count": 22,
     "metadata": {},
     "output_type": "execute_result"
    }
   ],
   "source": [
    "# instantiate the vectorizer\n",
    "#args = {\"stem\": True, \"lemmatize\": False}\n",
    "vect = CountVectorizer(analyzer='word', binary=False, decode_error='strict',\n",
    "        encoding='ISO-8859-1', input='content',\n",
    "        lowercase=True, max_df=1.0, max_features=None, min_df=1,\n",
    "        ngram_range=(1, 2), preprocessor=None, stop_words='english',\n",
    "        strip_accents=None, token_pattern='(?u)\\\\b\\\\w\\\\w+\\\\b',\n",
    "        tokenizer=tokenize, vocabulary=None)\n",
    "#vect =  TfidfVectorizer(analyzer='word', binary=False, decode_error='strict',\n",
    "        #encoding='ISO-8859-1', input='content',\n",
    "        #lowercase=True, max_df=1.0, max_features=None, min_df=1,\n",
    "        #ngram_range=(1, 1), norm='l2', preprocessor=None, smooth_idf=True,\n",
    "        #stop_words='english', strip_accents=None, sublinear_tf=False,\n",
    "        #token_pattern='(?u)\\\\b\\\\w\\\\w+\\\\b', tokenizer=tokenize, use_idf=True,\n",
    "        #vocabulary=None)\n",
    "#vect = HashingVectorizer()\n",
    "vect"
   ]
  },
  {
   "cell_type": "code",
   "execution_count": 23,
   "metadata": {},
   "outputs": [],
   "source": [
    "# equivalently: combine fit and transform into a single step\n",
    "X_train_dtm = vect.fit_transform(X_train)"
   ]
  },
  {
   "cell_type": "code",
   "execution_count": 24,
   "metadata": {},
   "outputs": [
    {
     "data": {
      "text/plain": [
       "<15200x56501 sparse matrix of type '<class 'numpy.int64'>'\n",
       "\twith 144558 stored elements in Compressed Sparse Row format>"
      ]
     },
     "execution_count": 24,
     "metadata": {},
     "output_type": "execute_result"
    }
   ],
   "source": [
    "# examine the document-term matrix\n",
    "X_train_dtm\n"
   ]
  },
  {
   "cell_type": "code",
   "execution_count": 25,
   "metadata": {},
   "outputs": [
    {
     "name": "stdout",
     "output_type": "stream",
     "text": [
      "  (0, 3658)\t1\n",
      "  (0, 3690)\t1\n",
      "  (0, 10902)\t1\n",
      "  (0, 11028)\t1\n",
      "  (0, 11033)\t1\n",
      "  (0, 14873)\t1\n",
      "  (0, 14878)\t1\n",
      "  (0, 27248)\t1\n",
      "  (0, 27260)\t1\n",
      "  (0, 31712)\t1\n",
      "  (0, 31716)\t1\n",
      "  (0, 35257)\t1\n",
      "  (0, 35260)\t1\n",
      "  (0, 55120)\t2\n",
      "  (0, 55135)\t1\n",
      "  (0, 55139)\t1\n",
      "  (1, 6297)\t1\n",
      "  (1, 13204)\t1\n",
      "  (1, 15285)\t1\n",
      "  (1, 15337)\t1\n",
      "  (1, 35493)\t1\n",
      "  (1, 35494)\t1\n",
      "  (1, 48065)\t1\n",
      "  (1, 48109)\t1\n",
      "  (2, 10451)\t2\n",
      "  :\t:\n",
      "  (3796, 24747)\t1\n",
      "  (3796, 41943)\t1\n",
      "  (3796, 41946)\t1\n",
      "  (3796, 42375)\t1\n",
      "  (3796, 42420)\t1\n",
      "  (3796, 45249)\t1\n",
      "  (3796, 45300)\t1\n",
      "  (3796, 52209)\t1\n",
      "  (3796, 52268)\t1\n",
      "  (3797, 35555)\t1\n",
      "  (3797, 53537)\t1\n",
      "  (3797, 53561)\t1\n",
      "  (3798, 12323)\t1\n",
      "  (3798, 15901)\t1\n",
      "  (3798, 18360)\t1\n",
      "  (3798, 20404)\t1\n",
      "  (3798, 24527)\t1\n",
      "  (3798, 48255)\t1\n",
      "  (3798, 54191)\t1\n",
      "  (3799, 10443)\t1\n",
      "  (3799, 40460)\t1\n",
      "  (3800, 7855)\t1\n",
      "  (3800, 7869)\t1\n",
      "  (3800, 14075)\t1\n",
      "  (3800, 14391)\t1\n"
     ]
    }
   ],
   "source": [
    "# transform testing data (using fitted vocabulary) into a document-term matrix\n",
    "X_test_dtm = vect.transform(X_test)\n",
    "print(X_test_dtm)"
   ]
  },
  {
   "cell_type": "code",
   "execution_count": 26,
   "metadata": {},
   "outputs": [],
   "source": [
    "# import and instantiate a Multinomial Naive Bayes model\n",
    "from sklearn.naive_bayes import MultinomialNB\n",
    "nb = MultinomialNB()"
   ]
  },
  {
   "cell_type": "code",
   "execution_count": 27,
   "metadata": {},
   "outputs": [
    {
     "name": "stdout",
     "output_type": "stream",
     "text": [
      "Wall time: 8.99 ms\n"
     ]
    },
    {
     "data": {
      "text/plain": [
       "MultinomialNB(alpha=1.0, class_prior=None, fit_prior=True)"
      ]
     },
     "execution_count": 27,
     "metadata": {},
     "output_type": "execute_result"
    }
   ],
   "source": [
    "# train the model using X_train_dtm (timing it with an IPython \"magic command\")\n",
    "%time nb.fit(X_train_dtm, y_train)"
   ]
  },
  {
   "cell_type": "code",
   "execution_count": 28,
   "metadata": {},
   "outputs": [],
   "source": [
    "# make class predictions for X_test_dtm\n",
    "y_pred_class = nb.predict(X_test_dtm)"
   ]
  },
  {
   "cell_type": "code",
   "execution_count": 29,
   "metadata": {},
   "outputs": [
    {
     "data": {
      "text/plain": [
       "0.8560905024993423"
      ]
     },
     "execution_count": 29,
     "metadata": {},
     "output_type": "execute_result"
    }
   ],
   "source": [
    "# calculate accuracy of class predictions\n",
    "from sklearn import metrics\n",
    "metrics.accuracy_score(y_test, y_pred_class)"
   ]
  },
  {
   "cell_type": "code",
   "execution_count": 30,
   "metadata": {},
   "outputs": [
    {
     "data": {
      "text/plain": [
       "array([[1915,  316],\n",
       "       [ 231, 1339]], dtype=int64)"
      ]
     },
     "execution_count": 30,
     "metadata": {},
     "output_type": "execute_result"
    }
   ],
   "source": [
    "# print the confusion matrix\n",
    "metrics.confusion_matrix(y_test, y_pred_class)"
   ]
  },
  {
   "cell_type": "code",
   "execution_count": 31,
   "metadata": {},
   "outputs": [
    {
     "name": "stdout",
     "output_type": "stream",
     "text": [
      "             precision    recall  f1-score   support\n",
      "\n",
      "          0       0.89      0.86      0.88      2231\n",
      "          1       0.81      0.85      0.83      1570\n",
      "\n",
      "avg / total       0.86      0.86      0.86      3801\n",
      "\n"
     ]
    }
   ],
   "source": [
    "# print the classification report\n",
    "print(metrics.classification_report(y_test, y_pred_class))"
   ]
  },
  {
   "cell_type": "code",
   "execution_count": 32,
   "metadata": {},
   "outputs": [
    {
     "data": {
      "text/plain": [
       "array([0.99981589, 0.00652708, 0.99977886, ..., 0.80326038, 0.16901669,\n",
       "       0.19361815])"
      ]
     },
     "execution_count": 32,
     "metadata": {},
     "output_type": "execute_result"
    }
   ],
   "source": [
    "# calculate predicted probabilities for X_test_dtm (poorly calibrated)\n",
    "y_pred_prob = nb.predict_proba(X_test_dtm)[:, 1]\n",
    "y_pred_prob"
   ]
  },
  {
   "cell_type": "code",
   "execution_count": 33,
   "metadata": {},
   "outputs": [
    {
     "data": {
      "text/plain": [
       "0.9410969346241581"
      ]
     },
     "execution_count": 33,
     "metadata": {},
     "output_type": "execute_result"
    }
   ],
   "source": [
    "# calculate AUC\n",
    "metrics.roc_auc_score(y_test, y_pred_prob)"
   ]
  },
  {
   "cell_type": "code",
   "execution_count": 34,
   "metadata": {},
   "outputs": [],
   "source": [
    "# import and instantiate a logistic regression model\n",
    "from sklearn.linear_model import LogisticRegression\n",
    "lr = LogisticRegression()"
   ]
  },
  {
   "cell_type": "code",
   "execution_count": 35,
   "metadata": {},
   "outputs": [
    {
     "name": "stdout",
     "output_type": "stream",
     "text": [
      "Wall time: 306 ms\n"
     ]
    },
    {
     "data": {
      "text/plain": [
       "LogisticRegression(C=1.0, class_weight=None, dual=False, fit_intercept=True,\n",
       "          intercept_scaling=1, max_iter=100, multi_class='ovr', n_jobs=1,\n",
       "          penalty='l2', random_state=None, solver='liblinear', tol=0.0001,\n",
       "          verbose=0, warm_start=False)"
      ]
     },
     "execution_count": 35,
     "metadata": {},
     "output_type": "execute_result"
    }
   ],
   "source": [
    "# train the model using X_train_dtm\n",
    "%time lr.fit(X_train_dtm, y_train)"
   ]
  },
  {
   "cell_type": "code",
   "execution_count": 36,
   "metadata": {},
   "outputs": [],
   "source": [
    "# make class predictions for X_test_dtm\n",
    "y_pred_class = lr.predict(X_test_dtm)"
   ]
  },
  {
   "cell_type": "code",
   "execution_count": 37,
   "metadata": {},
   "outputs": [
    {
     "data": {
      "text/plain": [
       "array([0.93371134, 0.0418717 , 0.79091657, ..., 0.315128  , 0.18587099,\n",
       "       0.19622712])"
      ]
     },
     "execution_count": 37,
     "metadata": {},
     "output_type": "execute_result"
    }
   ],
   "source": [
    "# calculate predicted probabilities for X_test_dtm (well calibrated)\n",
    "y_pred_prob = lr.predict_proba(X_test_dtm)[:, 1]\n",
    "y_pred_prob"
   ]
  },
  {
   "cell_type": "code",
   "execution_count": 38,
   "metadata": {},
   "outputs": [
    {
     "data": {
      "text/plain": [
       "0.8718758221520653"
      ]
     },
     "execution_count": 38,
     "metadata": {},
     "output_type": "execute_result"
    }
   ],
   "source": [
    "# calculate accuracy\n",
    "metrics.accuracy_score(y_test, y_pred_class)"
   ]
  },
  {
   "cell_type": "code",
   "execution_count": 39,
   "metadata": {},
   "outputs": [
    {
     "data": {
      "text/plain": [
       "array([[2017,  214],\n",
       "       [ 273, 1297]], dtype=int64)"
      ]
     },
     "execution_count": 39,
     "metadata": {},
     "output_type": "execute_result"
    }
   ],
   "source": [
    "metrics.confusion_matrix(y_test, y_pred_class)"
   ]
  },
  {
   "cell_type": "code",
   "execution_count": 40,
   "metadata": {},
   "outputs": [
    {
     "name": "stdout",
     "output_type": "stream",
     "text": [
      "             precision    recall  f1-score   support\n",
      "\n",
      "          0       0.88      0.90      0.89      2231\n",
      "          1       0.86      0.83      0.84      1570\n",
      "\n",
      "avg / total       0.87      0.87      0.87      3801\n",
      "\n"
     ]
    }
   ],
   "source": [
    "# print the classification report\n",
    "print(metrics.classification_report(y_test, y_pred_class))"
   ]
  },
  {
   "cell_type": "code",
   "execution_count": 41,
   "metadata": {},
   "outputs": [
    {
     "data": {
      "text/plain": [
       "0.9335011576882778"
      ]
     },
     "execution_count": 41,
     "metadata": {},
     "output_type": "execute_result"
    }
   ],
   "source": [
    "# calculate AUC\n",
    "metrics.roc_auc_score(y_test, y_pred_prob)"
   ]
  },
  {
   "cell_type": "code",
   "execution_count": 42,
   "metadata": {},
   "outputs": [
    {
     "name": "stdout",
     "output_type": "stream",
     "text": [
      "Wall time: 8 ms\n"
     ]
    },
    {
     "data": {
      "text/plain": [
       "KNeighborsClassifier(algorithm='auto', leaf_size=30, metric='minkowski',\n",
       "           metric_params=None, n_jobs=1, n_neighbors=2, p=2,\n",
       "           weights='distance')"
      ]
     },
     "execution_count": 42,
     "metadata": {},
     "output_type": "execute_result"
    }
   ],
   "source": [
    "from sklearn.neighbors import KNeighborsClassifier  \n",
    "kn = KNeighborsClassifier(weights='distance', n_neighbors=2)  \n",
    "%time kn.fit(X_train_dtm, y_train)"
   ]
  },
  {
   "cell_type": "code",
   "execution_count": 43,
   "metadata": {},
   "outputs": [],
   "source": [
    "y_pred_class = kn.predict(X_test_dtm)"
   ]
  },
  {
   "cell_type": "code",
   "execution_count": 44,
   "metadata": {},
   "outputs": [
    {
     "data": {
      "text/plain": [
       "0.8905551170744541"
      ]
     },
     "execution_count": 44,
     "metadata": {},
     "output_type": "execute_result"
    }
   ],
   "source": [
    "metrics.accuracy_score(y_test, y_pred_class)"
   ]
  },
  {
   "cell_type": "code",
   "execution_count": 45,
   "metadata": {},
   "outputs": [
    {
     "data": {
      "text/plain": [
       "array([[2037,  194],\n",
       "       [ 222, 1348]], dtype=int64)"
      ]
     },
     "execution_count": 45,
     "metadata": {},
     "output_type": "execute_result"
    }
   ],
   "source": [
    "metrics.confusion_matrix(y_test, y_pred_class)"
   ]
  },
  {
   "cell_type": "code",
   "execution_count": 46,
   "metadata": {},
   "outputs": [
    {
     "name": "stdout",
     "output_type": "stream",
     "text": [
      "             precision    recall  f1-score   support\n",
      "\n",
      "          0       0.90      0.91      0.91      2231\n",
      "          1       0.87      0.86      0.87      1570\n",
      "\n",
      "avg / total       0.89      0.89      0.89      3801\n",
      "\n"
     ]
    }
   ],
   "source": [
    "# print the classification report\n",
    "print(metrics.classification_report(y_test, y_pred_class))"
   ]
  },
  {
   "cell_type": "code",
   "execution_count": 47,
   "metadata": {},
   "outputs": [
    {
     "data": {
      "text/plain": [
       "0.9335011576882778"
      ]
     },
     "execution_count": 47,
     "metadata": {},
     "output_type": "execute_result"
    }
   ],
   "source": [
    "metrics.roc_auc_score(y_test, y_pred_prob)"
   ]
  },
  {
   "cell_type": "code",
   "execution_count": 48,
   "metadata": {},
   "outputs": [
    {
     "name": "stdout",
     "output_type": "stream",
     "text": [
      "Wall time: 13.4 s\n"
     ]
    },
    {
     "data": {
      "text/plain": [
       "DecisionTreeClassifier(class_weight=None, criterion='entropy', max_depth=None,\n",
       "            max_features=None, max_leaf_nodes=None,\n",
       "            min_impurity_decrease=0.0, min_impurity_split=None,\n",
       "            min_samples_leaf=1, min_samples_split=2,\n",
       "            min_weight_fraction_leaf=0.0, presort=False, random_state=None,\n",
       "            splitter='best')"
      ]
     },
     "execution_count": 48,
     "metadata": {},
     "output_type": "execute_result"
    }
   ],
   "source": [
    "from sklearn import tree\n",
    "dc = tree.DecisionTreeClassifier(criterion='entropy')\n",
    "%time dc.fit(X_train_dtm, y_train)"
   ]
  },
  {
   "cell_type": "code",
   "execution_count": 49,
   "metadata": {},
   "outputs": [],
   "source": [
    "y_pred_class = dc.predict(X_test_dtm)"
   ]
  },
  {
   "cell_type": "code",
   "execution_count": 50,
   "metadata": {},
   "outputs": [
    {
     "data": {
      "text/plain": [
       "0.8450407787424362"
      ]
     },
     "execution_count": 50,
     "metadata": {},
     "output_type": "execute_result"
    }
   ],
   "source": [
    "metrics.accuracy_score(y_test, y_pred_class)"
   ]
  },
  {
   "cell_type": "code",
   "execution_count": 51,
   "metadata": {},
   "outputs": [
    {
     "data": {
      "text/plain": [
       "array([[1804,  427],\n",
       "       [ 162, 1408]], dtype=int64)"
      ]
     },
     "execution_count": 51,
     "metadata": {},
     "output_type": "execute_result"
    }
   ],
   "source": [
    "metrics.confusion_matrix(y_test, y_pred_class)"
   ]
  },
  {
   "cell_type": "code",
   "execution_count": 52,
   "metadata": {},
   "outputs": [
    {
     "name": "stdout",
     "output_type": "stream",
     "text": [
      "             precision    recall  f1-score   support\n",
      "\n",
      "          0       0.92      0.81      0.86      2231\n",
      "          1       0.77      0.90      0.83      1570\n",
      "\n",
      "avg / total       0.86      0.85      0.85      3801\n",
      "\n"
     ]
    }
   ],
   "source": [
    "# print the classification report\n",
    "print(metrics.classification_report(y_test, y_pred_class))"
   ]
  },
  {
   "cell_type": "code",
   "execution_count": 53,
   "metadata": {},
   "outputs": [
    {
     "data": {
      "text/plain": [
       "0.9335011576882778"
      ]
     },
     "execution_count": 53,
     "metadata": {},
     "output_type": "execute_result"
    }
   ],
   "source": [
    "metrics.roc_auc_score(y_test, y_pred_prob)"
   ]
  },
  {
   "cell_type": "code",
   "execution_count": 54,
   "metadata": {},
   "outputs": [
    {
     "name": "stdout",
     "output_type": "stream",
     "text": [
      "Wall time: 951 ms\n"
     ]
    },
    {
     "data": {
      "text/plain": [
       "LinearSVC(C=1.0, class_weight=None, dual=True, fit_intercept=True,\n",
       "     intercept_scaling=1, loss='squared_hinge', max_iter=1000,\n",
       "     multi_class='ovr', penalty='l2', random_state=None, tol=0.0001,\n",
       "     verbose=0)"
      ]
     },
     "execution_count": 54,
     "metadata": {},
     "output_type": "execute_result"
    }
   ],
   "source": [
    "from sklearn import svm\n",
    "svl = svm.LinearSVC()\n",
    "%time svl.fit(X_train_dtm, y_train)"
   ]
  },
  {
   "cell_type": "code",
   "execution_count": 55,
   "metadata": {},
   "outputs": [],
   "source": [
    "y_pred_class = svl.predict(X_test_dtm)"
   ]
  },
  {
   "cell_type": "code",
   "execution_count": 56,
   "metadata": {},
   "outputs": [
    {
     "data": {
      "text/plain": [
       "0.8789792159957905"
      ]
     },
     "execution_count": 56,
     "metadata": {},
     "output_type": "execute_result"
    }
   ],
   "source": [
    "metrics.accuracy_score(y_test, y_pred_class)"
   ]
  },
  {
   "cell_type": "code",
   "execution_count": 57,
   "metadata": {},
   "outputs": [
    {
     "data": {
      "text/plain": [
       "array([[1963,  268],\n",
       "       [ 192, 1378]], dtype=int64)"
      ]
     },
     "execution_count": 57,
     "metadata": {},
     "output_type": "execute_result"
    }
   ],
   "source": [
    "metrics.confusion_matrix(y_test, y_pred_class)"
   ]
  },
  {
   "cell_type": "code",
   "execution_count": 58,
   "metadata": {},
   "outputs": [
    {
     "name": "stdout",
     "output_type": "stream",
     "text": [
      "             precision    recall  f1-score   support\n",
      "\n",
      "          0       0.91      0.88      0.90      2231\n",
      "          1       0.84      0.88      0.86      1570\n",
      "\n",
      "avg / total       0.88      0.88      0.88      3801\n",
      "\n"
     ]
    }
   ],
   "source": [
    "# print the classification report\n",
    "print(metrics.classification_report(y_test, y_pred_class))"
   ]
  },
  {
   "cell_type": "code",
   "execution_count": 59,
   "metadata": {},
   "outputs": [
    {
     "data": {
      "text/plain": [
       "0.9335011576882778"
      ]
     },
     "execution_count": 59,
     "metadata": {},
     "output_type": "execute_result"
    }
   ],
   "source": [
    "metrics.roc_auc_score(y_test, y_pred_prob)"
   ]
  },
  {
   "cell_type": "code",
   "execution_count": 60,
   "metadata": {},
   "outputs": [
    {
     "name": "stdout",
     "output_type": "stream",
     "text": [
      "Wall time: 1min 26s\n"
     ]
    },
    {
     "data": {
      "text/plain": [
       "SVC(C=1.0, cache_size=200, class_weight=None, coef0=0.0,\n",
       "  decision_function_shape='ovr', degree=3, gamma=10, kernel='rbf',\n",
       "  max_iter=-1, probability=False, random_state=None, shrinking=True,\n",
       "  tol=0.001, verbose=False)"
      ]
     },
     "execution_count": 60,
     "metadata": {},
     "output_type": "execute_result"
    }
   ],
   "source": [
    "sv = svm.SVC(gamma = 10)\n",
    "%time sv.fit(X_train_dtm, y_train)"
   ]
  },
  {
   "cell_type": "code",
   "execution_count": 61,
   "metadata": {},
   "outputs": [],
   "source": [
    "y_pred_class = sv.predict(X_test_dtm)"
   ]
  },
  {
   "cell_type": "code",
   "execution_count": 62,
   "metadata": {},
   "outputs": [
    {
     "data": {
      "text/plain": [
       "0.9376479873717443"
      ]
     },
     "execution_count": 62,
     "metadata": {},
     "output_type": "execute_result"
    }
   ],
   "source": [
    "metrics.accuracy_score(y_test, y_pred_class)"
   ]
  },
  {
   "cell_type": "code",
   "execution_count": 63,
   "metadata": {},
   "outputs": [
    {
     "data": {
      "text/plain": [
       "array([[2205,   26],\n",
       "       [ 211, 1359]], dtype=int64)"
      ]
     },
     "execution_count": 63,
     "metadata": {},
     "output_type": "execute_result"
    }
   ],
   "source": [
    "metrics.confusion_matrix(y_test, y_pred_class)"
   ]
  },
  {
   "cell_type": "code",
   "execution_count": 64,
   "metadata": {},
   "outputs": [
    {
     "name": "stdout",
     "output_type": "stream",
     "text": [
      "             precision    recall  f1-score   support\n",
      "\n",
      "          0       0.91      0.99      0.95      2231\n",
      "          1       0.98      0.87      0.92      1570\n",
      "\n",
      "avg / total       0.94      0.94      0.94      3801\n",
      "\n"
     ]
    }
   ],
   "source": [
    "# print the classification report\n",
    "print(metrics.classification_report(y_test, y_pred_class))"
   ]
  },
  {
   "cell_type": "markdown",
   "metadata": {},
   "source": [
    "## Examining a model for further insight\n"
   ]
  },
  {
   "cell_type": "code",
   "execution_count": 65,
   "metadata": {},
   "outputs": [
    {
     "data": {
      "text/plain": [
       "56501"
      ]
     },
     "execution_count": 65,
     "metadata": {},
     "output_type": "execute_result"
    }
   ],
   "source": [
    "# store the vocabulary of X_train\n",
    "X_train_tokens = vect.get_feature_names()\n",
    "len(X_train_tokens)"
   ]
  },
  {
   "cell_type": "code",
   "execution_count": 66,
   "metadata": {},
   "outputs": [
    {
     "data": {
      "text/plain": [
       "10443    fairr enough putting bitch though\n",
       "9520                     thats sounds good\n",
       "7588                             emo becka\n",
       "15592                                  fat\n",
       "12525                                  try\n",
       "12736        lmao nawdats elementary daysz\n",
       "8427                              straight\n",
       "10331                          sounds good\n",
       "16450                                  wow\n",
       "6013                 smart httpthetysercom\n",
       "Name: tweet, dtype: object"
      ]
     },
     "execution_count": 66,
     "metadata": {},
     "output_type": "execute_result"
    }
   ],
   "source": [
    "# first 10 false positives (Nonbullying materials classified as bullying)\n",
    "X_test[y_test < y_pred_class].head(10)"
   ]
  },
  {
   "cell_type": "code",
   "execution_count": 67,
   "metadata": {},
   "outputs": [
    {
     "data": {
      "text/plain": [
       "757                                        ill fight bitch\n",
       "568                             ajula fukin talk herrr vvv\n",
       "43                                  still got whooped haha\n",
       "558                                                asshole\n",
       "1710                                                  name\n",
       "4644                                                      \n",
       "3673                                                      \n",
       "200                                                    hey\n",
       "17285    dream involving rhino chasing polo cologne eve...\n",
       "5816                                                      \n",
       "Name: tweet, dtype: object"
      ]
     },
     "execution_count": 67,
     "metadata": {},
     "output_type": "execute_result"
    }
   ],
   "source": [
    "# first 10 false negatives (bullying materials classified as nonbullying)\n",
    "X_test[y_test > y_pred_class].head(10)"
   ]
  },
  {
   "cell_type": "code",
   "execution_count": 68,
   "metadata": {
    "scrolled": true
   },
   "outputs": [
    {
     "name": "stdout",
     "output_type": "stream",
     "text": [
      "['aaaaaaaaaa', 'aaaaaanndgummi', 'aaaaaanndgummi bear', 'aaaagh', 'aaaawwwww', 'aaaawwwww rock', 'aaand', 'aaand needa', 'aaanyyywhoooooooo', 'aaanyyywhoooooooo uuuhm', 'aaargh', 'aaarrrg', 'aah', 'aah actual', 'aah butttt', 'aah twitorfitcom', 'aardvark', 'aardvark discont', 'aargh', 'aargh big', 'aaron', 'aaron need', 'aaronag', 'aaronag sure', 'aarontait', 'aarontait come', 'aawwhh', 'aawwhh wake', 'aay', 'aay richard', 'abandon', 'abandon alon', 'abbey', 'abbey bier', 'abbi', 'abbi aint', 'abcd', 'abcd right', 'abcdefghijklmnopqrstuvwxyz', 'abcdefghijklmnopqrstuvwxyz pick', 'abduct', 'abduct alien', 'abid', 'abid famili', 'abil', 'abil breath', 'abil busi', 'abil chang', 'abil fli', 'abil immov', 'abil kick', 'abil print', 'abil spell', 'abil turn', 'abil work', 'abl', 'abl act', 'abl bare', 'abl bath', 'abl chang', 'abl connect', 'abl control', 'abl drive', 'abl fli', 'abl half', 'abl ive', 'abl know', 'abl make', 'abl park', 'abl pull', 'abl resist', 'abl retriev', 'abl spend', 'abl talk', 'abl telepath', 'abl thing', 'abl view', 'abl walk', 'abort', 'abouht', 'abouht hoe', 'abour', 'abour retir', 'aboutnow', 'abouty', 'abovedalaw', 'abovedalaw iamdalaw', 'abraham', 'abraham lincoln', 'abram', 'abram scorses', 'abrill', 'abrill iloveyhuuu', 'abs', 'abs uncomfort', 'absit', 'absit porn', 'absolut', 'absolut count', 'absolut exist']\n"
     ]
    }
   ],
   "source": [
    "# examine the first 100 tokens\n",
    "print(X_train_tokens[0:100])"
   ]
  },
  {
   "cell_type": "code",
   "execution_count": 69,
   "metadata": {},
   "outputs": [
    {
     "name": "stdout",
     "output_type": "stream",
     "text": [
      "['yuuu moreep', 'yuuuaaa', 'yuuuaaa akekek', 'yuuuuuuu', 'yvett', 'yvett restaur', 'yvonn', 'yvonn french', 'yvonn littl', 'ywan', 'ywan lmao', 'yyyessss', 'yyyessss way', 'yyyyou', 'yyyyou love', 'zac', 'zac efron', 'zach', 'zach tell', 'zacki', 'zacki sorri', 'zackli', 'zackli thing', 'zak', 'zak come', 'zaxbi', 'zaxbi diet', 'zco', 'zealand', 'zealand lmao', 'zebra', 'zebra cross', 'zebra lovee', 'zebra man', 'zee', 'zee hair', 'zeno', 'zeno finalist', 'zero', 'zero absolut', 'zero alright', 'zero long', 'zerooooo', 'zew', 'zew zealand', 'zig', 'zig idri', 'zimbabw', 'zimbabw nyc', 'zip', 'zip cours', 'zip fat', 'zipper', 'zipper peopl', 'zipper sure', 'zippo', 'zippo fuel', 'zit', 'zit chin', 'zit wtf', 'zodiac', 'zodiac sign', 'zombi', 'zombi believ', 'zombi cruel', 'zombi eat', 'zombi flick', 'zombi freak', 'zombi haha', 'zombi mummi', 'zombi sho', 'zomgon', 'zomgz', 'zomgz fontfe', 'zon', 'zon raar', 'zone', 'zone bitch', 'zone shoot', 'zone space', 'zone usual', 'zoom', 'zoom brisban', 'zoom pan', 'zro', 'zro rli', 'zune', 'zune pas', 'zune suck', 'zune yea', 'zune zune', 'zzzz', 'zzzz snore', 'zzzzzz', 'zzzzzz zzzz', 'zzzzzzzz', 'être', 'être foll', 'über', 'über think']\n"
     ]
    }
   ],
   "source": [
    "# examine the last 100 tokens\n",
    "print(X_train_tokens[-100:])"
   ]
  },
  {
   "cell_type": "code",
   "execution_count": 70,
   "metadata": {},
   "outputs": [
    {
     "data": {
      "text/plain": [
       "array([[1., 1., 1., ..., 0., 1., 1.],\n",
       "       [0., 0., 0., ..., 3., 0., 0.]])"
      ]
     },
     "execution_count": 70,
     "metadata": {},
     "output_type": "execute_result"
    }
   ],
   "source": [
    "# Naive Bayes counts the number of times each token appears in each class\n",
    "nb.feature_count_"
   ]
  },
  {
   "cell_type": "code",
   "execution_count": 71,
   "metadata": {},
   "outputs": [
    {
     "data": {
      "text/plain": [
       "(2, 56501)"
      ]
     },
     "execution_count": 71,
     "metadata": {},
     "output_type": "execute_result"
    }
   ],
   "source": [
    "# rows represent classes, columns represent tokens\n",
    "nb.feature_count_.shape"
   ]
  },
  {
   "cell_type": "code",
   "execution_count": 72,
   "metadata": {},
   "outputs": [
    {
     "data": {
      "text/plain": [
       "array([1., 1., 1., ..., 0., 1., 1.])"
      ]
     },
     "execution_count": 72,
     "metadata": {},
     "output_type": "execute_result"
    }
   ],
   "source": [
    "# number of times each token appears across all Nonbullying messages\n",
    "nonbullying_token_count = nb.feature_count_[0, :]\n",
    "nonbullying_token_count"
   ]
  },
  {
   "cell_type": "code",
   "execution_count": 73,
   "metadata": {},
   "outputs": [
    {
     "data": {
      "text/plain": [
       "array([0., 0., 0., ..., 3., 0., 0.])"
      ]
     },
     "execution_count": 73,
     "metadata": {},
     "output_type": "execute_result"
    }
   ],
   "source": [
    "# number of times each token appears across all Bullying messages\n",
    "bullying_token_count = nb.feature_count_[1, :]\n",
    "bullying_token_count"
   ]
  },
  {
   "cell_type": "code",
   "execution_count": 74,
   "metadata": {},
   "outputs": [
    {
     "data": {
      "text/html": [
       "<div>\n",
       "<style scoped>\n",
       "    .dataframe tbody tr th:only-of-type {\n",
       "        vertical-align: middle;\n",
       "    }\n",
       "\n",
       "    .dataframe tbody tr th {\n",
       "        vertical-align: top;\n",
       "    }\n",
       "\n",
       "    .dataframe thead th {\n",
       "        text-align: right;\n",
       "    }\n",
       "</style>\n",
       "<table border=\"1\" class=\"dataframe\">\n",
       "  <thead>\n",
       "    <tr style=\"text-align: right;\">\n",
       "      <th></th>\n",
       "      <th>token</th>\n",
       "      <th>Nonbullying</th>\n",
       "      <th>Bullying</th>\n",
       "    </tr>\n",
       "  </thead>\n",
       "  <tbody>\n",
       "    <tr>\n",
       "      <th>0</th>\n",
       "      <td>aaaaaaaaaa</td>\n",
       "      <td>1.0</td>\n",
       "      <td>0.0</td>\n",
       "    </tr>\n",
       "    <tr>\n",
       "      <th>1</th>\n",
       "      <td>aaaaaanndgummi</td>\n",
       "      <td>1.0</td>\n",
       "      <td>0.0</td>\n",
       "    </tr>\n",
       "    <tr>\n",
       "      <th>2</th>\n",
       "      <td>aaaaaanndgummi bear</td>\n",
       "      <td>1.0</td>\n",
       "      <td>0.0</td>\n",
       "    </tr>\n",
       "    <tr>\n",
       "      <th>3</th>\n",
       "      <td>aaaagh</td>\n",
       "      <td>1.0</td>\n",
       "      <td>0.0</td>\n",
       "    </tr>\n",
       "    <tr>\n",
       "      <th>4</th>\n",
       "      <td>aaaawwwww</td>\n",
       "      <td>1.0</td>\n",
       "      <td>0.0</td>\n",
       "    </tr>\n",
       "    <tr>\n",
       "      <th>5</th>\n",
       "      <td>aaaawwwww rock</td>\n",
       "      <td>1.0</td>\n",
       "      <td>0.0</td>\n",
       "    </tr>\n",
       "    <tr>\n",
       "      <th>6</th>\n",
       "      <td>aaand</td>\n",
       "      <td>0.0</td>\n",
       "      <td>2.0</td>\n",
       "    </tr>\n",
       "    <tr>\n",
       "      <th>7</th>\n",
       "      <td>aaand needa</td>\n",
       "      <td>0.0</td>\n",
       "      <td>2.0</td>\n",
       "    </tr>\n",
       "    <tr>\n",
       "      <th>8</th>\n",
       "      <td>aaanyyywhoooooooo</td>\n",
       "      <td>1.0</td>\n",
       "      <td>0.0</td>\n",
       "    </tr>\n",
       "    <tr>\n",
       "      <th>9</th>\n",
       "      <td>aaanyyywhoooooooo uuuhm</td>\n",
       "      <td>1.0</td>\n",
       "      <td>0.0</td>\n",
       "    </tr>\n",
       "  </tbody>\n",
       "</table>\n",
       "</div>"
      ],
      "text/plain": [
       "                     token  Nonbullying  Bullying\n",
       "0               aaaaaaaaaa          1.0       0.0\n",
       "1           aaaaaanndgummi          1.0       0.0\n",
       "2      aaaaaanndgummi bear          1.0       0.0\n",
       "3                   aaaagh          1.0       0.0\n",
       "4                aaaawwwww          1.0       0.0\n",
       "5           aaaawwwww rock          1.0       0.0\n",
       "6                    aaand          0.0       2.0\n",
       "7              aaand needa          0.0       2.0\n",
       "8        aaanyyywhoooooooo          1.0       0.0\n",
       "9  aaanyyywhoooooooo uuuhm          1.0       0.0"
      ]
     },
     "execution_count": 74,
     "metadata": {},
     "output_type": "execute_result"
    }
   ],
   "source": [
    "# create a DataFrame of tokens with their separate counts\n",
    "tokens = pd.DataFrame({'token':X_train_tokens, 'Nonbullying':nonbullying_token_count, 'Bullying':bullying_token_count})\n",
    "tokens.head(10)"
   ]
  },
  {
   "cell_type": "code",
   "execution_count": 75,
   "metadata": {},
   "outputs": [
    {
     "data": {
      "text/html": [
       "<div>\n",
       "<style scoped>\n",
       "    .dataframe tbody tr th:only-of-type {\n",
       "        vertical-align: middle;\n",
       "    }\n",
       "\n",
       "    .dataframe tbody tr th {\n",
       "        vertical-align: top;\n",
       "    }\n",
       "\n",
       "    .dataframe thead th {\n",
       "        text-align: right;\n",
       "    }\n",
       "</style>\n",
       "<table border=\"1\" class=\"dataframe\">\n",
       "  <thead>\n",
       "    <tr style=\"text-align: right;\">\n",
       "      <th></th>\n",
       "      <th>token</th>\n",
       "      <th>Nonbullying</th>\n",
       "      <th>Bullying</th>\n",
       "    </tr>\n",
       "  </thead>\n",
       "  <tbody>\n",
       "    <tr>\n",
       "      <th>11661</th>\n",
       "      <td>didnt number</td>\n",
       "      <td>1.0</td>\n",
       "      <td>0.0</td>\n",
       "    </tr>\n",
       "    <tr>\n",
       "      <th>15288</th>\n",
       "      <td>favorit birthday</td>\n",
       "      <td>1.0</td>\n",
       "      <td>0.0</td>\n",
       "    </tr>\n",
       "    <tr>\n",
       "      <th>37728</th>\n",
       "      <td>prob fix</td>\n",
       "      <td>1.0</td>\n",
       "      <td>0.0</td>\n",
       "    </tr>\n",
       "    <tr>\n",
       "      <th>43793</th>\n",
       "      <td>social jjust</td>\n",
       "      <td>1.0</td>\n",
       "      <td>0.0</td>\n",
       "    </tr>\n",
       "    <tr>\n",
       "      <th>20594</th>\n",
       "      <td>hard trust</td>\n",
       "      <td>1.0</td>\n",
       "      <td>0.0</td>\n",
       "    </tr>\n",
       "    <tr>\n",
       "      <th>12685</th>\n",
       "      <td>drop hit</td>\n",
       "      <td>1.0</td>\n",
       "      <td>0.0</td>\n",
       "    </tr>\n",
       "    <tr>\n",
       "      <th>40430</th>\n",
       "      <td>rollerblad mile</td>\n",
       "      <td>1.0</td>\n",
       "      <td>0.0</td>\n",
       "    </tr>\n",
       "    <tr>\n",
       "      <th>48951</th>\n",
       "      <td>til open</td>\n",
       "      <td>0.0</td>\n",
       "      <td>3.0</td>\n",
       "    </tr>\n",
       "    <tr>\n",
       "      <th>8241</th>\n",
       "      <td>cloth grab</td>\n",
       "      <td>1.0</td>\n",
       "      <td>0.0</td>\n",
       "    </tr>\n",
       "    <tr>\n",
       "      <th>35035</th>\n",
       "      <td>pain rearend</td>\n",
       "      <td>0.0</td>\n",
       "      <td>1.0</td>\n",
       "    </tr>\n",
       "  </tbody>\n",
       "</table>\n",
       "</div>"
      ],
      "text/plain": [
       "                  token  Nonbullying  Bullying\n",
       "11661      didnt number          1.0       0.0\n",
       "15288  favorit birthday          1.0       0.0\n",
       "37728          prob fix          1.0       0.0\n",
       "43793      social jjust          1.0       0.0\n",
       "20594        hard trust          1.0       0.0\n",
       "12685          drop hit          1.0       0.0\n",
       "40430   rollerblad mile          1.0       0.0\n",
       "48951          til open          0.0       3.0\n",
       "8241         cloth grab          1.0       0.0\n",
       "35035      pain rearend          0.0       1.0"
      ]
     },
     "execution_count": 75,
     "metadata": {},
     "output_type": "execute_result"
    }
   ],
   "source": [
    "# examine 10 random DataFrame rows\n",
    "tokens.sample(10, random_state=100)"
   ]
  },
  {
   "cell_type": "code",
   "execution_count": 76,
   "metadata": {},
   "outputs": [
    {
     "data": {
      "text/plain": [
       "array([8931., 6269.])"
      ]
     },
     "execution_count": 76,
     "metadata": {},
     "output_type": "execute_result"
    }
   ],
   "source": [
    "# Naive Bayes counts the number of observations in each class\n",
    "nb.class_count_"
   ]
  },
  {
   "cell_type": "code",
   "execution_count": 77,
   "metadata": {},
   "outputs": [
    {
     "data": {
      "text/html": [
       "<div>\n",
       "<style scoped>\n",
       "    .dataframe tbody tr th:only-of-type {\n",
       "        vertical-align: middle;\n",
       "    }\n",
       "\n",
       "    .dataframe tbody tr th {\n",
       "        vertical-align: top;\n",
       "    }\n",
       "\n",
       "    .dataframe thead th {\n",
       "        text-align: right;\n",
       "    }\n",
       "</style>\n",
       "<table border=\"1\" class=\"dataframe\">\n",
       "  <thead>\n",
       "    <tr style=\"text-align: right;\">\n",
       "      <th></th>\n",
       "      <th>token</th>\n",
       "      <th>Nonbullying</th>\n",
       "      <th>Bullying</th>\n",
       "    </tr>\n",
       "  </thead>\n",
       "  <tbody>\n",
       "    <tr>\n",
       "      <th>11661</th>\n",
       "      <td>didnt number</td>\n",
       "      <td>2.0</td>\n",
       "      <td>1.0</td>\n",
       "    </tr>\n",
       "    <tr>\n",
       "      <th>15288</th>\n",
       "      <td>favorit birthday</td>\n",
       "      <td>2.0</td>\n",
       "      <td>1.0</td>\n",
       "    </tr>\n",
       "    <tr>\n",
       "      <th>37728</th>\n",
       "      <td>prob fix</td>\n",
       "      <td>2.0</td>\n",
       "      <td>1.0</td>\n",
       "    </tr>\n",
       "    <tr>\n",
       "      <th>43793</th>\n",
       "      <td>social jjust</td>\n",
       "      <td>2.0</td>\n",
       "      <td>1.0</td>\n",
       "    </tr>\n",
       "    <tr>\n",
       "      <th>20594</th>\n",
       "      <td>hard trust</td>\n",
       "      <td>2.0</td>\n",
       "      <td>1.0</td>\n",
       "    </tr>\n",
       "    <tr>\n",
       "      <th>12685</th>\n",
       "      <td>drop hit</td>\n",
       "      <td>2.0</td>\n",
       "      <td>1.0</td>\n",
       "    </tr>\n",
       "    <tr>\n",
       "      <th>40430</th>\n",
       "      <td>rollerblad mile</td>\n",
       "      <td>2.0</td>\n",
       "      <td>1.0</td>\n",
       "    </tr>\n",
       "    <tr>\n",
       "      <th>48951</th>\n",
       "      <td>til open</td>\n",
       "      <td>1.0</td>\n",
       "      <td>4.0</td>\n",
       "    </tr>\n",
       "    <tr>\n",
       "      <th>8241</th>\n",
       "      <td>cloth grab</td>\n",
       "      <td>2.0</td>\n",
       "      <td>1.0</td>\n",
       "    </tr>\n",
       "    <tr>\n",
       "      <th>35035</th>\n",
       "      <td>pain rearend</td>\n",
       "      <td>1.0</td>\n",
       "      <td>2.0</td>\n",
       "    </tr>\n",
       "  </tbody>\n",
       "</table>\n",
       "</div>"
      ],
      "text/plain": [
       "                  token  Nonbullying  Bullying\n",
       "11661      didnt number          2.0       1.0\n",
       "15288  favorit birthday          2.0       1.0\n",
       "37728          prob fix          2.0       1.0\n",
       "43793      social jjust          2.0       1.0\n",
       "20594        hard trust          2.0       1.0\n",
       "12685          drop hit          2.0       1.0\n",
       "40430   rollerblad mile          2.0       1.0\n",
       "48951          til open          1.0       4.0\n",
       "8241         cloth grab          2.0       1.0\n",
       "35035      pain rearend          1.0       2.0"
      ]
     },
     "execution_count": 77,
     "metadata": {},
     "output_type": "execute_result"
    }
   ],
   "source": [
    "# add 1 to counts to avoid dividing by 0\n",
    "tokens['Nonbullying'] = tokens.Nonbullying + 1\n",
    "tokens['Bullying'] = tokens.Bullying + 1\n",
    "tokens.sample(10, random_state=100)"
   ]
  },
  {
   "cell_type": "code",
   "execution_count": 78,
   "metadata": {},
   "outputs": [
    {
     "data": {
      "text/html": [
       "<div>\n",
       "<style scoped>\n",
       "    .dataframe tbody tr th:only-of-type {\n",
       "        vertical-align: middle;\n",
       "    }\n",
       "\n",
       "    .dataframe tbody tr th {\n",
       "        vertical-align: top;\n",
       "    }\n",
       "\n",
       "    .dataframe thead th {\n",
       "        text-align: right;\n",
       "    }\n",
       "</style>\n",
       "<table border=\"1\" class=\"dataframe\">\n",
       "  <thead>\n",
       "    <tr style=\"text-align: right;\">\n",
       "      <th></th>\n",
       "      <th>token</th>\n",
       "      <th>Nonbullying</th>\n",
       "      <th>Bullying</th>\n",
       "    </tr>\n",
       "  </thead>\n",
       "  <tbody>\n",
       "    <tr>\n",
       "      <th>11661</th>\n",
       "      <td>didnt number</td>\n",
       "      <td>0.000224</td>\n",
       "      <td>0.000160</td>\n",
       "    </tr>\n",
       "    <tr>\n",
       "      <th>15288</th>\n",
       "      <td>favorit birthday</td>\n",
       "      <td>0.000224</td>\n",
       "      <td>0.000160</td>\n",
       "    </tr>\n",
       "    <tr>\n",
       "      <th>37728</th>\n",
       "      <td>prob fix</td>\n",
       "      <td>0.000224</td>\n",
       "      <td>0.000160</td>\n",
       "    </tr>\n",
       "    <tr>\n",
       "      <th>43793</th>\n",
       "      <td>social jjust</td>\n",
       "      <td>0.000224</td>\n",
       "      <td>0.000160</td>\n",
       "    </tr>\n",
       "    <tr>\n",
       "      <th>20594</th>\n",
       "      <td>hard trust</td>\n",
       "      <td>0.000224</td>\n",
       "      <td>0.000160</td>\n",
       "    </tr>\n",
       "    <tr>\n",
       "      <th>12685</th>\n",
       "      <td>drop hit</td>\n",
       "      <td>0.000224</td>\n",
       "      <td>0.000160</td>\n",
       "    </tr>\n",
       "    <tr>\n",
       "      <th>40430</th>\n",
       "      <td>rollerblad mile</td>\n",
       "      <td>0.000224</td>\n",
       "      <td>0.000160</td>\n",
       "    </tr>\n",
       "    <tr>\n",
       "      <th>48951</th>\n",
       "      <td>til open</td>\n",
       "      <td>0.000112</td>\n",
       "      <td>0.000638</td>\n",
       "    </tr>\n",
       "    <tr>\n",
       "      <th>8241</th>\n",
       "      <td>cloth grab</td>\n",
       "      <td>0.000224</td>\n",
       "      <td>0.000160</td>\n",
       "    </tr>\n",
       "    <tr>\n",
       "      <th>35035</th>\n",
       "      <td>pain rearend</td>\n",
       "      <td>0.000112</td>\n",
       "      <td>0.000319</td>\n",
       "    </tr>\n",
       "  </tbody>\n",
       "</table>\n",
       "</div>"
      ],
      "text/plain": [
       "                  token  Nonbullying  Bullying\n",
       "11661      didnt number     0.000224  0.000160\n",
       "15288  favorit birthday     0.000224  0.000160\n",
       "37728          prob fix     0.000224  0.000160\n",
       "43793      social jjust     0.000224  0.000160\n",
       "20594        hard trust     0.000224  0.000160\n",
       "12685          drop hit     0.000224  0.000160\n",
       "40430   rollerblad mile     0.000224  0.000160\n",
       "48951          til open     0.000112  0.000638\n",
       "8241         cloth grab     0.000224  0.000160\n",
       "35035      pain rearend     0.000112  0.000319"
      ]
     },
     "execution_count": 78,
     "metadata": {},
     "output_type": "execute_result"
    }
   ],
   "source": [
    "# convert the bullying and non bullying counts into frequencies\n",
    "tokens['Nonbullying'] = tokens.Nonbullying / nb.class_count_[0]\n",
    "tokens['Bullying'] = tokens.Bullying / nb.class_count_[1]\n",
    "tokens.sample(10, random_state=100)"
   ]
  },
  {
   "cell_type": "code",
   "execution_count": 79,
   "metadata": {},
   "outputs": [],
   "source": [
    "# calculate the ratio of bullying for each token\n",
    "tokens['Bullying_ratio'] = tokens.Bullying / tokens.Nonbullying\n",
    "random_tokens = tokens.sample(10, random_state=100)"
   ]
  },
  {
   "cell_type": "code",
   "execution_count": 80,
   "metadata": {},
   "outputs": [
    {
     "data": {
      "text/plain": [
       "[Text(0,0.5,'Tokens'), Text(0.5,0,'Bullying ratio')]"
      ]
     },
     "execution_count": 80,
     "metadata": {},
     "output_type": "execute_result"
    },
    {
     "data": {
      "image/png": "[encoded data removed]",
      "text/plain": [
       "<Figure size 432x288 with 1 Axes>"
      ]
     },
     "metadata": {},
     "output_type": "display_data"
    }
   ],
   "source": [
    "# examine the DataFrame sorted by spam_ratio\n",
    "# note: use sort() instead of sort_values() for pandas 0.16.2 and earlier\n",
    "#tokens = tokens.sort_values('Bullying_ratio', ascending=False)\n",
    "fig, ax = plt.subplots()\n",
    "ax.barh(random_tokens['token'], random_tokens['Bullying_ratio'])\n",
    "ax.set(xlabel='Bullying ratio', ylabel='Tokens')"
   ]
  },
  {
   "cell_type": "code",
   "execution_count": 81,
   "metadata": {},
   "outputs": [],
   "source": [
    "sample_test = [\"You are so dumb\", \"I feel proud of you\" ]"
   ]
  },
  {
   "cell_type": "code",
   "execution_count": 82,
   "metadata": {},
   "outputs": [
    {
     "name": "stdout",
     "output_type": "stream",
     "text": [
      "  (0, 12951)\t1\n",
      "  (1, 15442)\t1\n",
      "  (1, 38010)\t1\n"
     ]
    }
   ],
   "source": [
    "sample_test_dtm = vect.transform(sample_test)\n",
    "print(sample_test_dtm)"
   ]
  },
  {
   "cell_type": "code",
   "execution_count": 83,
   "metadata": {},
   "outputs": [
    {
     "name": "stdout",
     "output_type": "stream",
     "text": [
      "pretti crappi\n"
     ]
    }
   ],
   "source": [
    "print(X_train_tokens[37531])"
   ]
  },
  {
   "cell_type": "code",
   "execution_count": 84,
   "metadata": {},
   "outputs": [],
   "source": [
    "sample_pred_nb = nb.predict(sample_test_dtm)\n",
    "sample_pred_lr = lr.predict(sample_test_dtm)\n",
    "sample_pred_kn = kn.predict(sample_test_dtm)\n",
    "sample_pred_dc = dc.predict(sample_test_dtm)\n",
    "sample_pred_svl = svl.predict(sample_test_dtm)\n",
    "sample_pred_sv = sv.predict(sample_test_dtm)"
   ]
  },
  {
   "cell_type": "code",
   "execution_count": 85,
   "metadata": {},
   "outputs": [
    {
     "name": "stdout",
     "output_type": "stream",
     "text": [
      "naive bayes predicted:            [1 0]\n",
      "logistic regression predicted:    [1 0]\n",
      "k-nearest neighbours predicted:   [1 0]\n",
      "decision tree predicted:          [1 0]\n",
      "linear support vector predicted:  [1 0]\n",
      "rbf support vector predicted:     [1 0]\n"
     ]
    }
   ],
   "source": [
    "print(\"naive bayes predicted:           \",sample_pred_nb)\n",
    "print(\"logistic regression predicted:   \",sample_pred_nb)\n",
    "print(\"k-nearest neighbours predicted:  \",sample_pred_nb)\n",
    "print(\"decision tree predicted:         \",sample_pred_nb)\n",
    "print(\"linear support vector predicted: \",sample_pred_nb)\n",
    "print(\"rbf support vector predicted:    \",sample_pred_nb)"
   ]
  },
  {
   "cell_type": "code",
   "execution_count": null,
   "metadata": {},
   "outputs": [],
   "source": []
  }
 ],
 "metadata": {
  "kernelspec": {
   "display_name": "Python 3",
   "language": "python",
   "name": "python3"
  },
  "language_info": {
   "codemirror_mode": {
    "name": "ipython",
    "version": 3
   },
   "file_extension": ".py",
   "mimetype": "text/x-python",
   "name": "python",
   "nbconvert_exporter": "python",
   "pygments_lexer": "ipython3",
   "version": "3.6.5"
  }
 },
 "nbformat": 4,
 "nbformat_minor": 1
}
